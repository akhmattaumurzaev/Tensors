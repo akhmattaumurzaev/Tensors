{
  "nbformat": 4,
  "nbformat_minor": 0,
  "metadata": {
    "colab": {
      "provenance": []
    },
    "kernelspec": {
      "name": "python3",
      "display_name": "Python 3"
    },
    "language_info": {
      "name": "python"
    }
  },
  "cells": [
    {
      "cell_type": "code",
      "source": [
        "import numpy as np\n",
        "from scipy.linalg import svd"
      ],
      "metadata": {
        "id": "qfNeXaBSo4_E"
      },
      "execution_count": 1,
      "outputs": []
    },
    {
      "cell_type": "markdown",
      "source": [
        "# **st-HOSVD**"
      ],
      "metadata": {
        "id": "DW4Biw6Dpz5u"
      }
    },
    {
      "cell_type": "code",
      "execution_count": 4,
      "metadata": {
        "id": "OYlPcGlHnGG3"
      },
      "outputs": [],
      "source": [
        "def sthosvd(T, ranks = None, eps = 10**(-8)):\n",
        "  d = T.ndim\n",
        "  G = T.copy()\n",
        "  U = []\n",
        "  rel_eps = eps * np.linalg.norm(T)**2\n",
        "\n",
        "  if ranks == None:\n",
        "    ranks = np.zeros(d, dtype= int)\n",
        "\n",
        "  for k in range(d):\n",
        "    T_k = np.moveaxis(G, k, 0).reshape(G.shape[k], -1)\n",
        "    U_k, sigmas_k, V_k = svd(T_k)\n",
        "\n",
        "    if ranks[k] == 0:\n",
        "      ranks[k] = sigmas_k.shape[0]\n",
        "      s = sigmas_k[-1]**2;\n",
        "      while s < rel_eps:\n",
        "        ranks[k] -= 1\n",
        "        s += sigmas_k[-(sigmas_k.shape[0] - ranks[k])]**2\n",
        "      ranks[k] += 1\n",
        "\n",
        "    U_trunc = U_k[:, :ranks[k]]\n",
        "    U.append(U_trunc)\n",
        "\n",
        "    G = np.moveaxis(np.tensordot(U_trunc, G, axes=([0], [k])), 0, k)\n",
        "  return G, U, ranks"
      ]
    },
    {
      "cell_type": "code",
      "source": [
        "shape = (20, 30, 40)\n",
        "i, j, k = np.indices(shape)\n",
        "T = np.sin(i + j + k)\n",
        "\n",
        "G, U, ranks = sthosvd(T)\n",
        "\n",
        "for k in range(G.ndim):\n",
        "  G = np.moveaxis(np.tensordot(U[k], G, axes=(1, k)), 0, k)\n",
        "\n",
        "print(np.linalg.norm(T - G)**2 / np.linalg.norm(T)**2)"
      ],
      "metadata": {
        "colab": {
          "base_uri": "https://localhost:8080/"
        },
        "id": "vUH2m1_fnlEK",
        "outputId": "7518390b-94cb-4bfd-fc32-2f20369e329d"
      },
      "execution_count": 5,
      "outputs": [
        {
          "output_type": "stream",
          "name": "stdout",
          "text": [
            "9.061340163742612e-31\n"
          ]
        }
      ]
    }
  ]
}