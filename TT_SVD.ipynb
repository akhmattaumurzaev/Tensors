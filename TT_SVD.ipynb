{
  "nbformat": 4,
  "nbformat_minor": 0,
  "metadata": {
    "colab": {
      "provenance": []
    },
    "kernelspec": {
      "name": "python3",
      "display_name": "Python 3"
    },
    "language_info": {
      "name": "python"
    }
  },
  "cells": [
    {
      "cell_type": "code",
      "execution_count": 32,
      "metadata": {
        "id": "EI5LDsRTq958"
      },
      "outputs": [],
      "source": [
        "import numpy as np\n",
        "from scipy.linalg import svd\n",
        "from scipy.linalg import qr"
      ]
    },
    {
      "cell_type": "markdown",
      "source": [
        "# **TT-SVD**"
      ],
      "metadata": {
        "id": "Nc_OX2fjrDGZ"
      }
    },
    {
      "cell_type": "code",
      "source": [
        "def ttsvd(tensor, eps = 10**(-8), ranks = None):\n",
        "  T = tensor.copy()\n",
        "  d = T.ndim\n",
        "  n = T.shape\n",
        "  G = []\n",
        "  rel_eps = (eps * np.linalg.norm(T))**2\n",
        "\n",
        "  if ranks == None or len(ranks) < d - 1:\n",
        "    ranks = np.zeros(d - 1, dtype= int)\n",
        "  ranks = np.insert(ranks, 0, 1)\n",
        "  for k in range(d - 1):\n",
        "    unfolding = T.reshape((ranks[k] * n[k], -1))\n",
        "\n",
        "    U, sigmas, VT = svd(unfolding, full_matrices = False)\n",
        "\n",
        "    if ranks[k + 1] == 0:\n",
        "      ranks[k + 1] = sigmas.shape[0]\n",
        "      s = sigmas[-1]**2;\n",
        "      while s < rel_eps:\n",
        "        ranks[k + 1] -= 1\n",
        "        s += sigmas[-(sigmas.shape[0] - ranks[k + 1])]**2\n",
        "      ranks[k + 1] += 1\n",
        "    else:\n",
        "      ranks[k + 1] = min(sigmas.shape[0], ranks[k+1])\n",
        "\n",
        "    if k > 0:\n",
        "      G.append(U[:, :ranks[k + 1]].reshape((ranks[k], n[k], ranks[k + 1])))\n",
        "    else:\n",
        "      G.append(U[:, :ranks[k + 1]].reshape((n[k], ranks[k + 1])))\n",
        "    T = np.diag(sigmas[:ranks[k + 1]]) @ VT[:ranks[k + 1], :]\n",
        "\n",
        "  G.append(T.reshape((-1, n[-1])))\n",
        "  ranks = ranks[1:]\n",
        "  return G, ranks"
      ],
      "metadata": {
        "id": "yJt5OwNNrFLx"
      },
      "execution_count": 97,
      "outputs": []
    },
    {
      "cell_type": "markdown",
      "source": [
        "# **TT-orthogonalization**"
      ],
      "metadata": {
        "id": "dd5xeKekM3IE"
      }
    },
    {
      "cell_type": "code",
      "source": [
        "def ttort(G):\n",
        "  for k in range(len(G) - 1):\n",
        "    unfolding = G[k]\n",
        "    if k > 0:\n",
        "      r_left, n_k, r_right = unfolding.shape\n",
        "      unfolding = unfolding.reshape((-1, r_right))\n",
        "    Q, R = qr(unfolding, mode= 'economic')\n",
        "    if k == 0:\n",
        "      G[k] = Q\n",
        "    else:\n",
        "      G[k] = Q.reshape((r_left, n_k, -1))\n",
        "    G[k + 1] = np.tensordot(R, G[k + 1], axes=(1, 0))\n",
        "\n",
        "  return G"
      ],
      "metadata": {
        "id": "lguqANnkDWiN"
      },
      "execution_count": 59,
      "outputs": []
    },
    {
      "cell_type": "markdown",
      "source": [
        "# **TT-rounding**"
      ],
      "metadata": {
        "id": "kAuE3zbtNQG9"
      }
    },
    {
      "cell_type": "code",
      "source": [
        "def ttround(G, eps = 10**(-8)):\n",
        "  G = ttort(G)\n",
        "  d = len(G)\n",
        "  ranks = np.zeros(d - 1, dtype= int)\n",
        "  ranks = np.insert(ranks, 0, 1)\n",
        "  rel_eps = eps * np.linalg.norm(G[-1])**2\n",
        "\n",
        "  for k in reversed(range(1, d)):\n",
        "    if k == d - 1:\n",
        "      unfolding = G[k]\n",
        "    else:\n",
        "      r_left, n_k, r_right = G[k].shape\n",
        "      unfolding = G[k].reshape((r_left, -1))\n",
        "\n",
        "    U, sigmas, VT = svd(unfolding, full_matrices = False)\n",
        "\n",
        "    if ranks[k] == 0:\n",
        "      ranks[k] = sigmas.shape[0]\n",
        "      s = sigmas[-1]**2;\n",
        "      while s < rel_eps / k:\n",
        "        ranks[k] -= 1\n",
        "        s += sigmas[-(sigmas.shape[0] - ranks[k])]**2\n",
        "      ranks[k] += 1\n",
        "      ranks[k] = min(ranks[k], len(sigmas))\n",
        "\n",
        "    if k == d - 1:\n",
        "      G[k] = VT[:ranks[k], :]\n",
        "    else:\n",
        "      G[k] = VT[:ranks[k], :].reshape((ranks[k], n_k, r_right))\n",
        "    G[k-1] = np.tensordot(G[k-1], U[:, :ranks[k]] @ np.diag(sigmas[:ranks[k]]), axes=(-1, 0))\n",
        "  ranks = ranks[1:]\n",
        "  return G, ranks"
      ],
      "metadata": {
        "id": "-p_yQWOBNawR"
      },
      "execution_count": 180,
      "outputs": []
    },
    {
      "cell_type": "code",
      "source": [
        "shape = (20, 30, 40, 40)\n",
        "i, j, k, l = np.indices(shape)\n",
        "T = np.sin(i + j + k + l)\n",
        "\n",
        "G, ranks = ttsvd(T)\n",
        "\n",
        "A = G[0]\n",
        "for k in range(1, T.ndim):\n",
        "  A = np.tensordot(A, G[k], axes=(-1, 0))\n",
        "print(ranks)\n",
        "\n",
        "print(np.linalg.norm(T - A)**2 / np.linalg.norm(T)**2)"
      ],
      "metadata": {
        "colab": {
          "base_uri": "https://localhost:8080/"
        },
        "id": "OqyHXwJJ3Yec",
        "outputId": "bb65eed5-9021-42d7-d4b3-3a8cf58133b2"
      },
      "execution_count": 167,
      "outputs": [
        {
          "output_type": "stream",
          "name": "stdout",
          "text": [
            "[2 2 2]\n",
            "3.283603710205565e-28\n"
          ]
        }
      ]
    },
    {
      "cell_type": "code",
      "source": [
        "for k in range(1, T.ndim):\n",
        "  G[k] = np.ones(G[k].shape)\n",
        "\n",
        "A = G[0]\n",
        "for k in range(1, T.ndim):\n",
        "  A = np.tensordot(A, G[k], axes=(-1, 0))\n",
        "\n",
        "G = ttort(G)\n",
        "\n",
        "B = G[0]\n",
        "for k in range(1, T.ndim):\n",
        "  B = np.tensordot(B, G[k], axes=(-1, 0))\n",
        "\n",
        "\n",
        "print(np.linalg.norm(A - B)**2 / np.linalg.norm(T)**2)"
      ],
      "metadata": {
        "colab": {
          "base_uri": "https://localhost:8080/"
        },
        "id": "stdlGX9oHPZ0",
        "outputId": "272be460-a20d-4fe2-9890-3e77e087ba8b"
      },
      "execution_count": 168,
      "outputs": [
        {
          "output_type": "stream",
          "name": "stdout",
          "text": [
            "1.4503808992059549e-30\n"
          ]
        }
      ]
    },
    {
      "cell_type": "code",
      "source": [
        "shape = (20, 30, 40, 40)\n",
        "i, j, k, l = np.indices(shape)\n",
        "T = np.sin(i + j + k + l)\n",
        "\n",
        "ranks = [20, 30, 40]\n",
        "G, ranks = ttsvd(T, ranks=ranks)\n",
        "\n",
        "A = G[0]\n",
        "for k in range(1, T.ndim):\n",
        "  A = np.tensordot(A, G[k], axes=(-1, 0))\n",
        "\n",
        "print(ranks)\n",
        "G, ranks = ttround(G)\n",
        "print(ranks)\n",
        "\n",
        "A = G[0]\n",
        "for k in range(1, T.ndim):\n",
        "  A = np.tensordot(A, G[k], axes=(-1, 0))\n",
        "\n",
        "print(np.linalg.norm(T - A)**2 / np.linalg.norm(T)**2)"
      ],
      "metadata": {
        "colab": {
          "base_uri": "https://localhost:8080/"
        },
        "id": "zZhTECAKaTba",
        "outputId": "0f8acb62-dcd3-483e-95e9-6e4827ca07c4"
      },
      "execution_count": 181,
      "outputs": [
        {
          "output_type": "stream",
          "name": "stdout",
          "text": [
            "[20 30 40]\n",
            "[2 2 2]\n",
            "3.2602514933703403e-28\n"
          ]
        }
      ]
    }
  ]
}