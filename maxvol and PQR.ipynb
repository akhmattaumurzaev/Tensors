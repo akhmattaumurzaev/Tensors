{
  "nbformat": 4,
  "nbformat_minor": 0,
  "metadata": {
    "colab": {
      "provenance": []
    },
    "kernelspec": {
      "name": "python3",
      "display_name": "Python 3"
    },
    "language_info": {
      "name": "python"
    }
  },
  "cells": [
    {
      "cell_type": "code",
      "source": [
        "import numpy as np"
      ],
      "metadata": {
        "id": "Yko0-Cg16Zv1"
      },
      "execution_count": 2,
      "outputs": []
    },
    {
      "cell_type": "code",
      "execution_count": 3,
      "metadata": {
        "id": "Pv8vUEQoyS1l"
      },
      "outputs": [],
      "source": [
        "def QR_with_pivoting(A):\n",
        "  col_norms_with_indices = np.array([(i, np.linalg.norm(A[:, i])) for i in range(0, A.shape[1])])\n",
        "  sorted_col_norms_with_indices = sorted(col_norms_with_indices, key=lambda x: x[1], reverse=True)\n",
        "\n",
        "  permutation = [int(pair[0]) for pair in sorted_col_norms_with_indices]\n",
        "  P = np.eye(A.shape[1])\n",
        "  P = P[permutation]\n",
        "\n",
        "  AP = A @ P\n",
        "  Q, R = np.linalg.qr(AP)\n",
        "\n",
        "  return Q, R, P"
      ]
    },
    {
      "cell_type": "code",
      "source": [
        "A = np.array([[1, 2, 3],\n",
        "              [4, 5, 6],\n",
        "              [7, 8, 9]])\n",
        "\n",
        "\n",
        "Q, R, P = QR_with_pivoting(A)\n",
        "\n",
        "print(Q @ R @ P.transpose())"
      ],
      "metadata": {
        "colab": {
          "base_uri": "https://localhost:8080/"
        },
        "id": "uBEANlcL6Me-",
        "outputId": "fad4ae8e-6f4a-45ee-c92e-406a786e79cf"
      },
      "execution_count": 4,
      "outputs": [
        {
          "output_type": "stream",
          "name": "stdout",
          "text": [
            "[[1. 2. 3.]\n",
            " [4. 5. 6.]\n",
            " [7. 8. 9.]]\n"
          ]
        }
      ]
    },
    {
      "cell_type": "code",
      "source": [
        "from itertools import combinations\n",
        "\n",
        "def brutevol(A):\n",
        "  determinants = []\n",
        "  n = A.shape[0]\n",
        "  m = A.shape[1]\n",
        "\n",
        "  for rows in combinations(range(n), m):\n",
        "    submatrix = A[rows, :]\n",
        "    det = np.linalg.det(submatrix)\n",
        "    determinants.append(det)\n",
        "\n",
        "  max_det = max(determinants, key=abs)\n",
        "  return max_det"
      ],
      "metadata": {
        "id": "YBglYFi3rFOw"
      },
      "execution_count": 116,
      "outputs": []
    },
    {
      "cell_type": "code",
      "source": [
        "def max_abs_elem_ind(A):\n",
        "  max_abs_value = -1\n",
        "  for i in range(A.shape[0]):\n",
        "    for j in range(A.shape[1]):\n",
        "        abs_value = abs(A[i, j])\n",
        "        if abs_value > max_abs_value:\n",
        "            max_abs_value = abs_value\n",
        "            max_index = (i, j)\n",
        "  return max_index"
      ],
      "metadata": {
        "id": "OM8SfV4OuOFq"
      },
      "execution_count": 5,
      "outputs": []
    },
    {
      "cell_type": "code",
      "source": [
        "def maxvol(A):\n",
        "  n = A.shape[0]\n",
        "  r = A.shape[1]\n",
        "\n",
        "  rev_submatrix = np.linalg.inv(A[:r, :])\n",
        "  B = A @ rev_submatrix\n",
        "\n",
        "  i, j = max_abs_elem_ind(B)\n",
        "  max_rows_indices = np.arange(r)\n",
        "\n",
        "  while i > r - 1:\n",
        "    v = np.copy(B[:, j])\n",
        "    v[j] -= 1\n",
        "    v[i] += 1\n",
        "\n",
        "    q = np.copy(B[i,:])\n",
        "    q[j] -= 1\n",
        "\n",
        "    B = B - np.outer(v, q)/B[i,j]\n",
        "    print(\"Volume =\", abs(np.linalg.det(A[max_rows_indices, :])))\n",
        "\n",
        "    max_rows_indices[j] = i\n",
        "    i, j = max_abs_elem_ind(B)\n",
        "\n",
        "  return max_rows_indices"
      ],
      "metadata": {
        "id": "294-GdXPiyah"
      },
      "execution_count": 156,
      "outputs": []
    },
    {
      "cell_type": "code",
      "source": [
        "n = 10\n",
        "r = 5\n",
        "\n",
        "B = np.random.rand(n, n)\n",
        "submatrix = B[:,:r]\n",
        "\n",
        "indices = maxvol(submatrix)\n",
        "\n",
        "print(brutevol(submatrix))\n",
        "print(abs(np.linalg.det(submatrix[indices, :])))"
      ],
      "metadata": {
        "colab": {
          "base_uri": "https://localhost:8080/"
        },
        "id": "gQ6Eu-aazzso",
        "outputId": "f9a22748-79a6-4459-c9d3-3b64a592db9a"
      },
      "execution_count": 163,
      "outputs": [
        {
          "output_type": "stream",
          "name": "stdout",
          "text": [
            "Volume = 0.012697323035357762\n",
            "Volume = 0.09799750415494801\n",
            "Volume = 0.1523850599056173\n",
            "-0.20255782515322823\n",
            "0.20255782515322823\n"
          ]
        }
      ]
    },
    {
      "cell_type": "code",
      "source": [],
      "metadata": {
        "id": "HtuYkXMb_52s"
      },
      "execution_count": null,
      "outputs": []
    }
  ]
}